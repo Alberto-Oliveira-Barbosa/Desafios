{
 "cells": [
  {
   "cell_type": "markdown",
   "metadata": {},
   "source": [
    "URI Online Judge | 1003<br>\n",
    "Soma Simples<br<br>\n",
    "Adaptado por Neilor Ton<br>in, URI  Brasil<<br>br>\n",
    "\n",
    "Timelimit: 1<br>\n",
    "Leia dois valores inteiros, no caso para variáveis A e B. A seguir, calcule a soma entre elas e atribua à variável SOMA. A seguir escrever o valor desta variável.\n",
    "<br>\n",
    "Entrada<br>\n",
    "O arquivo de entrada contém 2 valores inteiros.\n",
    "<br>\n",
    "Saída<br>\n",
    "Imprima a variável SOMA com todas as letras maiúsculas, com um espaço em branco antes e depois da igualdade seguido pelo valor correspondente à soma de A e B. Como todos os problemas, não esqueça de imprimir o fim de linha após o resultado, caso contrário, você receberá \"Presentation Error\".\n",
    "<br>\n",
    "Exemplos de Entrada\tExemplos de Saída\n",
    "<br>30\n",
    "<br>10\n",
    "\n",
    "<br>SOMA = 40\n",
    "<br>-30\n",
    "<br>10\n",
    "<br>SOMA = -20\n",
    "<br>0\n",
    "<br>0\n",
    "<br>SOMA = 0"
   ]
  },
  {
   "cell_type": "code",
   "execution_count": 2,
   "metadata": {},
   "outputs": [
    {
     "name": "stdout",
     "output_type": "stream",
     "text": [
      "30\n",
      "10\n",
      "SOMA = 40\n"
     ]
    }
   ],
   "source": [
    "a = int(input())\n",
    "b = int(input())\n",
    "\n",
    "print('SOMA =', a+b)"
   ]
  }
 ],
 "metadata": {
  "kernelspec": {
   "display_name": "Python 3",
   "language": "python",
   "name": "python3"
  },
  "language_info": {
   "codemirror_mode": {
    "name": "ipython",
    "version": 3
   },
   "file_extension": ".py",
   "mimetype": "text/x-python",
   "name": "python",
   "nbconvert_exporter": "python",
   "pygments_lexer": "ipython3",
   "version": "3.6.5"
  }
 },
 "nbformat": 4,
 "nbformat_minor": 2
}
